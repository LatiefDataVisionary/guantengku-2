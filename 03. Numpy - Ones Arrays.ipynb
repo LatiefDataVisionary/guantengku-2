{
 "cells": [
  {
   "cell_type": "markdown",
   "id": "e5c58aac",
   "metadata": {},
   "source": [
    "# Ones Array - An array in which all values are 1"
   ]
  },
  {
   "cell_type": "markdown",
   "id": "d83eb4d6",
   "metadata": {},
   "source": [
    " ####                   A = np.ones(shape, dtype)"
   ]
  },
  {
   "cell_type": "markdown",
   "id": "1379972f",
   "metadata": {},
   "source": [
    "- We can define the shape and data-type of ones array\n",
    "- We can create 1-D, 2-D, 3-D array\n",
    "- The default data-type is float"
   ]
  },
  {
   "cell_type": "markdown",
   "id": "dd333238",
   "metadata": {},
   "source": [
    "- ndim --> to check the dimension of the array\n",
    "- shape --> to check the shape of the array\n",
    "- size --> to check the size of the array"
   ]
  },
  {
   "cell_type": "code",
   "execution_count": 1,
   "id": "dc2c0c82",
   "metadata": {},
   "outputs": [],
   "source": [
    "import numpy as np"
   ]
  },
  {
   "cell_type": "code",
   "execution_count": 5,
   "id": "4ec9184f",
   "metadata": {},
   "outputs": [
    {
     "name": "stdout",
     "output_type": "stream",
     "text": [
      "[1. 1. 1.]\n"
     ]
    }
   ],
   "source": [
    "a1 = np.ones(3)       # creating an Ones array, of 1 dimension (still in float format)\n",
    "print(a1)"
   ]
  },
  {
   "cell_type": "code",
   "execution_count": 8,
   "id": "dc45bda1",
   "metadata": {},
   "outputs": [
    {
     "name": "stdout",
     "output_type": "stream",
     "text": [
      "[1 1 1]\n"
     ]
    }
   ],
   "source": [
    "a1 = np.ones(3, dtype = int)        # creating an Ones array, of 1 dimension, with data-type as integer \n",
    "print(a1)"
   ]
  },
  {
   "cell_type": "code",
   "execution_count": 9,
   "id": "f19092ca",
   "metadata": {},
   "outputs": [
    {
     "data": {
      "text/plain": [
       "numpy.ndarray"
      ]
     },
     "execution_count": 9,
     "metadata": {},
     "output_type": "execute_result"
    }
   ],
   "source": [
    "type(a1)        # checking the type of o1"
   ]
  },
  {
   "cell_type": "code",
   "execution_count": 10,
   "id": "6f8a57f4",
   "metadata": {},
   "outputs": [
    {
     "data": {
      "text/plain": [
       "1"
      ]
     },
     "execution_count": 10,
     "metadata": {},
     "output_type": "execute_result"
    }
   ],
   "source": [
    "a1.ndim        # checking the dimension of a1"
   ]
  },
  {
   "cell_type": "code",
   "execution_count": 13,
   "id": "0de0afb7",
   "metadata": {},
   "outputs": [
    {
     "name": "stdout",
     "output_type": "stream",
     "text": [
      "[[1. 1. 1.]\n",
      " [1. 1. 1.]]\n"
     ]
    }
   ],
   "source": [
    "a2 = np.ones((2,3))    # creating an Ones array, of 2 dimensions\n",
    "print(a2)"
   ]
  },
  {
   "cell_type": "code",
   "execution_count": 14,
   "id": "43f38813",
   "metadata": {},
   "outputs": [
    {
     "name": "stdout",
     "output_type": "stream",
     "text": [
      "[[1 1 1]\n",
      " [1 1 1]]\n"
     ]
    }
   ],
   "source": [
    "a2 = np.ones((2,3), dtype=int)   # creating an Ones array, of 2 dimensions, with data-type as integer\n",
    "print(a2)           "
   ]
  },
  {
   "cell_type": "code",
   "execution_count": 15,
   "id": "755e8f5b",
   "metadata": {},
   "outputs": [
    {
     "data": {
      "text/plain": [
       "(2, 3)"
      ]
     },
     "execution_count": 15,
     "metadata": {},
     "output_type": "execute_result"
    }
   ],
   "source": [
    " a2.shape           # creating the shape of a2"
   ]
  },
  {
   "cell_type": "code",
   "execution_count": 19,
   "id": "e0864188",
   "metadata": {},
   "outputs": [
    {
     "name": "stdout",
     "output_type": "stream",
     "text": [
      "[[[1 1 1 1]\n",
      "  [1 1 1 1]\n",
      "  [1 1 1 1]]\n",
      "\n",
      " [[1 1 1 1]\n",
      "  [1 1 1 1]\n",
      "  [1 1 1 1]]]\n"
     ]
    }
   ],
   "source": [
    "a3 = np.ones((2,3,4), dtype=int)    # creating an Ones array, of 3 dimensions (2 rows, 3 columns, 4 elements)\n",
    "print(a3)"
   ]
  },
  {
   "cell_type": "code",
   "execution_count": 20,
   "id": "1fedcdd9",
   "metadata": {},
   "outputs": [
    {
     "data": {
      "text/plain": [
       "3"
      ]
     },
     "execution_count": 20,
     "metadata": {},
     "output_type": "execute_result"
    }
   ],
   "source": [
    "np.ndim(a3) # or n3.ndim         # checking the dimension of a3"
   ]
  },
  {
   "cell_type": "code",
   "execution_count": 26,
   "id": "1c28e2d5",
   "metadata": {},
   "outputs": [
    {
     "data": {
      "text/plain": [
       "24"
      ]
     },
     "execution_count": 26,
     "metadata": {},
     "output_type": "execute_result"
    }
   ],
   "source": [
    "np.size(a3) # or n3.size         # checking the numbers of elements in a3"
   ]
  },
  {
   "cell_type": "code",
   "execution_count": 32,
   "id": "9559d7ea",
   "metadata": {},
   "outputs": [
    {
     "name": "stdout",
     "output_type": "stream",
     "text": [
      "[ True  True  True  True  True  True  True  True  True]\n"
     ]
    }
   ],
   "source": [
    "percobaan = np.ones(9,bool)\n",
    "print(percobaan)"
   ]
  },
  {
   "cell_type": "code",
   "execution_count": null,
   "id": "fdbf4b83",
   "metadata": {},
   "outputs": [],
   "source": []
  },
  {
   "cell_type": "code",
   "execution_count": null,
   "id": "36a42806",
   "metadata": {},
   "outputs": [],
   "source": []
  },
  {
   "cell_type": "code",
   "execution_count": null,
   "id": "1d7badee",
   "metadata": {},
   "outputs": [],
   "source": []
  },
  {
   "cell_type": "code",
   "execution_count": null,
   "id": "270fda0c",
   "metadata": {},
   "outputs": [],
   "source": []
  }
 ],
 "metadata": {
  "kernelspec": {
   "display_name": "Python 3 (ipykernel)",
   "language": "python",
   "name": "python3"
  },
  "language_info": {
   "codemirror_mode": {
    "name": "ipython",
    "version": 3
   },
   "file_extension": ".py",
   "mimetype": "text/x-python",
   "name": "python",
   "nbconvert_exporter": "python",
   "pygments_lexer": "ipython3",
   "version": "3.11.7"
  }
 },
 "nbformat": 4,
 "nbformat_minor": 5
}
